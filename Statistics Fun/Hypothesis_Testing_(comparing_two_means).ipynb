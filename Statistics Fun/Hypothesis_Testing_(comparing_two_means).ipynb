{
  "nbformat": 4,
  "nbformat_minor": 0,
  "metadata": {
    "colab": {
      "name": "Hypothesis Testing (comparing two  means).ipynb",
      "provenance": []
    },
    "kernelspec": {
      "name": "python3",
      "display_name": "Python 3"
    }
  },
  "cells": [
    {
      "cell_type": "markdown",
      "metadata": {
        "id": "P6cZAAc9_whs",
        "colab_type": "text"
      },
      "source": [
        "**Background**\n",
        "\n",
        "Internal bleeding can be a serious medical problem and there is a lack in the range of remedies available for external bleeding. *Internal clotting agents* are a valuable treatment in such cases. Before they can be brought to market, drugs must first be proven to be effective and safe in a series of experiments, which typically start with animal studies. Chernick and Friis (Introductory Biostatistics for the Health Sciences, Wiley, Hoboken,2003, pp. 163–164) describe one such study with pigs. \n",
        "\n",
        "**Problem**\n",
        "\n",
        "Ten pigs were randomly assignedto a treatment group with a new clotting agent and 10 pigs were assigned to a control groupthat did not receive the clotting agent. Each pig’s liver was injured in a specified controlledmanner and the blood loss was measured. \n",
        "\n",
        "**H0**: The treatment has no effect and there is no difference in the average blood loss between the two groups except for what chance might produce.\n",
        "\n",
        "**HA**: The treatement is indeed an improvement ( blood clotting agent ensures less blood dispersion)\n",
        "\n",
        "**Resampling procedure**\n",
        "1. Write down blood looss for each pig and place in a 'box'\n",
        "2. Shuffle 'box' and draw randomly with (or without) replacement \n",
        "3. Find the mean of each resample, subtract mean1 - mean2, record difference\n",
        "4. Repeat step 2,3 1000  more times and find out how often a result as extreme as the observed or smaller (original mean1 -mean 2) happens\n",
        "\n",
        "---\n"
      ]
    },
    {
      "cell_type": "code",
      "metadata": {
        "id": "tKYzOu8z_sVW",
        "colab_type": "code",
        "colab": {
          "base_uri": "https://localhost:8080/",
          "height": 418
        },
        "outputId": "d5805417-90fe-44aa-c44b-0f90028372cd"
      },
      "source": [
        "#Data\n",
        "import pandas as pd\n",
        "data = {\n",
        "    'Control Group': [786, 375, 4446, 2886,478,587,434,4764,3281,3837],\n",
        "    'Treatement Group': [543,666, 455,823,1716,797,2828,1251,702,1078]\n",
        "}\n",
        "#Data Frame\n",
        "my_data = pd.DataFrame(data)\n",
        "\n",
        "#View\n",
        "display(my_data)\n",
        "\n",
        "#Statistics\n",
        "control_mean = my_data['Control Group'].mean()\n",
        "treatement_mean = my_data['Treatement Group'].mean()\n",
        "t_minus_c = treatement_mean-control_mean\n",
        "\n",
        "print('Mean blood loss for control group: ',control_mean)\n",
        "print('Mean blood loss for treatement group: ', treatement_mean)\n",
        "print('Difference in means (treatment - control: ',  t_minus_c)"
      ],
      "execution_count": 17,
      "outputs": [
        {
          "output_type": "display_data",
          "data": {
            "text/html": [
              "<div>\n",
              "<style scoped>\n",
              "    .dataframe tbody tr th:only-of-type {\n",
              "        vertical-align: middle;\n",
              "    }\n",
              "\n",
              "    .dataframe tbody tr th {\n",
              "        vertical-align: top;\n",
              "    }\n",
              "\n",
              "    .dataframe thead th {\n",
              "        text-align: right;\n",
              "    }\n",
              "</style>\n",
              "<table border=\"1\" class=\"dataframe\">\n",
              "  <thead>\n",
              "    <tr style=\"text-align: right;\">\n",
              "      <th></th>\n",
              "      <th>Control Group</th>\n",
              "      <th>Treatement Group</th>\n",
              "    </tr>\n",
              "  </thead>\n",
              "  <tbody>\n",
              "    <tr>\n",
              "      <th>0</th>\n",
              "      <td>786</td>\n",
              "      <td>543</td>\n",
              "    </tr>\n",
              "    <tr>\n",
              "      <th>1</th>\n",
              "      <td>375</td>\n",
              "      <td>666</td>\n",
              "    </tr>\n",
              "    <tr>\n",
              "      <th>2</th>\n",
              "      <td>4446</td>\n",
              "      <td>455</td>\n",
              "    </tr>\n",
              "    <tr>\n",
              "      <th>3</th>\n",
              "      <td>2886</td>\n",
              "      <td>823</td>\n",
              "    </tr>\n",
              "    <tr>\n",
              "      <th>4</th>\n",
              "      <td>478</td>\n",
              "      <td>1716</td>\n",
              "    </tr>\n",
              "    <tr>\n",
              "      <th>5</th>\n",
              "      <td>587</td>\n",
              "      <td>797</td>\n",
              "    </tr>\n",
              "    <tr>\n",
              "      <th>6</th>\n",
              "      <td>434</td>\n",
              "      <td>2828</td>\n",
              "    </tr>\n",
              "    <tr>\n",
              "      <th>7</th>\n",
              "      <td>4764</td>\n",
              "      <td>1251</td>\n",
              "    </tr>\n",
              "    <tr>\n",
              "      <th>8</th>\n",
              "      <td>3281</td>\n",
              "      <td>702</td>\n",
              "    </tr>\n",
              "    <tr>\n",
              "      <th>9</th>\n",
              "      <td>3837</td>\n",
              "      <td>1078</td>\n",
              "    </tr>\n",
              "  </tbody>\n",
              "</table>\n",
              "</div>"
            ],
            "text/plain": [
              "   Control Group  Treatement Group\n",
              "0            786               543\n",
              "1            375               666\n",
              "2           4446               455\n",
              "3           2886               823\n",
              "4            478              1716\n",
              "5            587               797\n",
              "6            434              2828\n",
              "7           4764              1251\n",
              "8           3281               702\n",
              "9           3837              1078"
            ]
          },
          "metadata": {
            "tags": []
          }
        },
        {
          "output_type": "stream",
          "text": [
            "Mean blood loss for control group:  2187.4\n",
            "Mean blood loss for treatement group:  1085.9\n",
            "Difference in means (treatment - control:  -1101.5\n"
          ],
          "name": "stdout"
        }
      ]
    },
    {
      "cell_type": "code",
      "metadata": {
        "id": "r-CBW7XiFoiZ",
        "colab_type": "code",
        "colab": {
          "base_uri": "https://localhost:8080/",
          "height": 388
        },
        "outputId": "6bcbe808-b59f-4bae-ad11-9715266d883e"
      },
      "source": [
        "''' Now, our goal is to check how often  (probable) the even treatment - control equals -1101.5 or less. The reason for doing this is to determine whether the treatement is indeed effective, or whether this result was simply due to lack. Hence, if our simulation yields this result with a great frequency than we know that chance can explain it, but if such event is rare, than we can indeed determine that the treatement is to be deemed responsible.'''\n",
        "import numpy as np\n",
        "difference = []\n",
        "merge_data= my_data['Control Group'].append(my_data['Treatement Group'],ignore_index=True )\n",
        "\n",
        "#1000 trials (resample with replacement)\n",
        "for x in range(1000):\n",
        "  control_group = []\n",
        "  treatement_group = []\n",
        "  #Resample 10 observations for Control, and 10 for Treatement group\n",
        "  for y in range(10):\n",
        "    #Control (randomize as much as possible)\n",
        "    np.random.shuffle(merge_data)\n",
        "    index = np.random.randint(0,20)\n",
        "    control_group.append(merge_data[index])\n",
        "\n",
        "    #Treatment\n",
        "    np.random.shuffle(merge_data)\n",
        "    index = np.random.randint(0,20)\n",
        "    treatement_group.append(merge_data[index])\n",
        "  \n",
        "  diff = float(np.array(treatement_group).mean()- np.array(control_group).mean())\n",
        "  difference.append(diff)\n",
        "\n",
        "#Conclusion, let us calculate the p-value\n",
        "p_value = sum(np.array(difference) < -1101.5)/1000\n",
        "print('P-value: ', p_value, ' with a 95% CL and an alpha of 5% we are bound to reject the null hypothesis in favor of the alternative. The results are statistically significant- the new treatement seems to be effective (statistically speaking).')\n",
        "print('\\n')\n",
        "\n",
        "#Graphical reppresentation \n",
        "import matplotlib.pyplot as plt\n",
        "_=plt.hist(sorted(difference))\n",
        "_=plt.title('Histogram of the 1000 Bootstrapped Difference of Means', fontweight='bold')\n",
        "_=plt.xlabel('Difference in means obtained from each resample')\n",
        "_=plt.ylabel('Frequency of each difference')\n",
        "_=plt.figure(figsize=(50,20))\n",
        "_=plt.show()\n"
      ],
      "execution_count": 74,
      "outputs": [
        {
          "output_type": "stream",
          "text": [
            "P-value:  0.047  with a 95% CL and an alpha of 5% we are bound to reject the null hypothesis in favor of the alternative. The results are statistically significant- the new treatement seems to be effective (statistically speaking).\n",
            "\n",
            "\n"
          ],
          "name": "stdout"
        },
        {
          "output_type": "display_data",
          "data": {
            "image/png": "[encoded data removed]",
            "text/plain": [
              "<Figure size 432x288 with 1 Axes>"
            ]
          },
          "metadata": {
            "tags": [],
            "needs_background": "light"
          }
        },
        {
          "output_type": "display_data",
          "data": {
            "text/plain": [
              "<Figure size 3600x1440 with 0 Axes>"
            ]
          },
          "metadata": {
            "tags": []
          }
        }
      ]
    },
    {
      "cell_type": "code",
      "metadata": {
        "id": "59wHGCX4LTnU",
        "colab_type": "code",
        "colab": {
          "base_uri": "https://localhost:8080/",
          "height": 35
        },
        "outputId": "85274c75-7e98-4bb5-fa2a-3cd437cf96c1"
      },
      "source": [
        ""
      ],
      "execution_count": 38,
      "outputs": [
        {
          "output_type": "stream",
          "text": [
            "10\n"
          ],
          "name": "stdout"
        }
      ]
    }
  ]
}