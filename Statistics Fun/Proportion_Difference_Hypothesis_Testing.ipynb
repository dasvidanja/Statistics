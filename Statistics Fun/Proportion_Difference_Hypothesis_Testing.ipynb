{
  "nbformat": 4,
  "nbformat_minor": 0,
  "metadata": {
    "colab": {
      "name": "Proportion Difference Hypothesis Testing.ipynb",
      "provenance": [],
      "collapsed_sections": []
    },
    "kernelspec": {
      "name": "python3",
      "display_name": "Python 3"
    }
  },
  "cells": [
    {
      "cell_type": "markdown",
      "metadata": {
        "id": "N0KXmWf84Z13",
        "colab_type": "text"
      },
      "source": [
        "**Question**: How different is the male acceptance rate from the female acceptance rate? \n",
        "\n",
        "(https://drive.google.com/filed12gKdQmH53Y-IZ6kX8djvRUakBfMkWzOT/view?usp=sharing))\n",
        "\n",
        "\n"
      ]
    },
    {
      "cell_type": "markdown",
      "metadata": {
        "id": "iDeicRud5OFs",
        "colab_type": "text"
      },
      "source": [
        "The idea is to determine wether there is some sort of discrimintation in this department, or weather this results might simply be due to chance. So, the way we set the problem goes as follow: \n",
        "  - we want to test wether both groups (female, male) shared the SAME OVERALL admission rate (147/584  = 25.17% or 0.2517) \n",
        "\n",
        "  - Check if the difference that we get (Female - Male, 23.92 - 27.75) is indeed a plausible result under or chance model, or if such difference is indeed an extreme and doesn't occur \n",
        "\n",
        "So, \n",
        "\n",
        "**H0**: Female Admission rate  == Male admission rate, 25.17%  (result is within chance, hence no discrimination --> look other options)\n",
        "**HA**: Femal Admission rate != Male admission ( the observed does not happen within reason of chace, hence possible discrimination)\n",
        "\n",
        "**Experiment**\n",
        "  1. Put 584 chips in a hat to represent the 584 applicants. Of these, 147 are marked admitted and 437 are marked rejected.\n",
        "  2. Shuffle the hat.\n",
        "  3. Draw 393 chips from the hat—the number of females—count the number of admits and calculate this as a proportion.\n",
        "  4. Draw the remaining 191 chips from the hat—the number of males—count the number of admits and calculate this as a proportion.\n",
        "  5. Record the criterion, that is, the statistic of interest. In this case, this statistic is the difference in the acceptance rates, that is, women minus men. The actual differenceis 23.92−27.75=−3.83 percentage points.\n",
        "  6. Repeat the trial many times, perhaps 1000 times, and find out how often we get adifference as extreme as−3.83 percentage points."
      ]
    },
    {
      "cell_type": "code",
      "metadata": {
        "id": "gkSRMWJfBzu3",
        "colab_type": "code",
        "colab": {
          "base_uri": "https://localhost:8080/",
          "height": 697
        },
        "outputId": "b15a65ee-24a8-4bf3-8b63-d287143bfe21"
      },
      "source": [
        "#Populate total admission with 584 observations: 147 admit, 437 reject\n",
        "import numpy as np\n",
        "total_admissions = np.array([0]*437 +[1]*147)\n",
        "\n",
        "#Now we have 147 admit (1) and 437 reject(0)\n",
        "print('Data ')\n",
        "print(total_admissions)\n",
        "\n",
        "#Shuffle the list, so as to be random :)\n",
        "np.random.shuffle(total_admissions)\n",
        "print('Shuffled Data ')\n",
        "print(total_admissions)\n",
        "total_admissions=total_admissions.tolist()\n",
        "\n",
        "##Draw 393 females without replacement from available data pool, record proportion \n",
        "length= len(total_admissions)\n",
        "female_counter= 0\n",
        "for x in range(393):\n",
        "  a= np.random.randint(0,length)\n",
        "  b= total_admissions[a]\n",
        "  \n",
        "  if(b==1):\n",
        "    female_counter +=1\n",
        "  \n",
        "  del total_admissions[a]\n",
        "  length -=1\n",
        "\n",
        "female_prop =(female_counter/393)*100\n",
        "\n",
        "\n",
        "##Draw 191 males without replacement from available data pool, record proportion \n",
        "length= len(total_admissions)\n",
        "# z= np.array(total_admissions)\n",
        "# print('sUM',sum(z==1)/584)\n",
        "male_counter= 0\n",
        "for x in range(191):\n",
        "  a= np.random.randint(0,length)\n",
        "  b= total_admissions[a]\n",
        "  \n",
        "  if(b==1):\n",
        "    male_counter +=1\n",
        "  \n",
        "  del total_admissions[a]\n",
        "  length -=1\n",
        "male_prop =(male_counter/191)*100\n",
        "print('FEMALE admitted proportion: ', female_prop)\n",
        "print('MALE admitted proportion: ',male_prop)\n",
        "print('Difference female-male : ', female_prop-male_prop)\n"
      ],
      "execution_count": 95,
      "outputs": [
        {
          "output_type": "stream",
          "text": [
            "Data \n",
            "[0 0 0 0 0 0 0 0 0 0 0 0 0 0 0 0 0 0 0 0 0 0 0 0 0 0 0 0 0 0 0 0 0 0 0 0 0\n",
            " 0 0 0 0 0 0 0 0 0 0 0 0 0 0 0 0 0 0 0 0 0 0 0 0 0 0 0 0 0 0 0 0 0 0 0 0 0\n",
            " 0 0 0 0 0 0 0 0 0 0 0 0 0 0 0 0 0 0 0 0 0 0 0 0 0 0 0 0 0 0 0 0 0 0 0 0 0\n",
            " 0 0 0 0 0 0 0 0 0 0 0 0 0 0 0 0 0 0 0 0 0 0 0 0 0 0 0 0 0 0 0 0 0 0 0 0 0\n",
            " 0 0 0 0 0 0 0 0 0 0 0 0 0 0 0 0 0 0 0 0 0 0 0 0 0 0 0 0 0 0 0 0 0 0 0 0 0\n",
            " 0 0 0 0 0 0 0 0 0 0 0 0 0 0 0 0 0 0 0 0 0 0 0 0 0 0 0 0 0 0 0 0 0 0 0 0 0\n",
            " 0 0 0 0 0 0 0 0 0 0 0 0 0 0 0 0 0 0 0 0 0 0 0 0 0 0 0 0 0 0 0 0 0 0 0 0 0\n",
            " 0 0 0 0 0 0 0 0 0 0 0 0 0 0 0 0 0 0 0 0 0 0 0 0 0 0 0 0 0 0 0 0 0 0 0 0 0\n",
            " 0 0 0 0 0 0 0 0 0 0 0 0 0 0 0 0 0 0 0 0 0 0 0 0 0 0 0 0 0 0 0 0 0 0 0 0 0\n",
            " 0 0 0 0 0 0 0 0 0 0 0 0 0 0 0 0 0 0 0 0 0 0 0 0 0 0 0 0 0 0 0 0 0 0 0 0 0\n",
            " 0 0 0 0 0 0 0 0 0 0 0 0 0 0 0 0 0 0 0 0 0 0 0 0 0 0 0 0 0 0 0 0 0 0 0 0 0\n",
            " 0 0 0 0 0 0 0 0 0 0 0 0 0 0 0 0 0 0 0 0 0 0 0 0 0 0 0 0 0 0 1 1 1 1 1 1 1\n",
            " 1 1 1 1 1 1 1 1 1 1 1 1 1 1 1 1 1 1 1 1 1 1 1 1 1 1 1 1 1 1 1 1 1 1 1 1 1\n",
            " 1 1 1 1 1 1 1 1 1 1 1 1 1 1 1 1 1 1 1 1 1 1 1 1 1 1 1 1 1 1 1 1 1 1 1 1 1\n",
            " 1 1 1 1 1 1 1 1 1 1 1 1 1 1 1 1 1 1 1 1 1 1 1 1 1 1 1 1 1 1 1 1 1 1 1 1 1\n",
            " 1 1 1 1 1 1 1 1 1 1 1 1 1 1 1 1 1 1 1 1 1 1 1 1 1 1 1 1 1]\n",
            "Shuffled Data \n",
            "[0 0 0 0 0 0 0 0 1 1 1 1 0 0 0 0 0 0 0 0 0 0 0 0 0 0 1 1 0 0 0 0 0 0 0 0 0\n",
            " 1 1 1 0 0 1 1 1 0 0 0 0 1 0 0 1 1 0 0 0 1 0 1 0 0 0 0 0 1 0 0 0 0 1 1 0 0\n",
            " 0 1 0 0 1 0 0 1 1 0 0 1 0 0 0 0 0 1 1 0 0 1 0 0 0 0 0 0 0 0 0 0 0 0 1 0 0\n",
            " 0 0 1 0 0 0 0 0 0 0 0 0 0 0 0 0 0 0 1 0 0 0 1 0 0 0 0 1 1 0 0 0 1 0 1 0 0\n",
            " 0 0 0 0 1 0 0 1 1 0 1 0 0 0 0 0 0 1 0 0 0 0 0 0 1 0 1 1 0 0 0 0 0 0 1 0 0\n",
            " 1 0 0 0 0 1 0 1 0 1 0 1 1 1 0 1 0 0 0 0 1 0 0 0 1 0 1 0 1 0 0 0 0 0 1 1 0\n",
            " 0 1 0 1 1 0 0 0 1 1 1 0 0 0 0 1 0 0 0 0 0 0 1 0 0 0 0 0 0 1 1 0 0 0 0 0 0\n",
            " 0 0 0 0 0 0 0 0 0 1 0 1 1 0 0 0 0 0 0 0 1 0 0 0 0 0 1 0 0 1 0 0 0 0 1 0 0\n",
            " 0 0 0 0 0 0 0 1 0 0 0 0 0 0 0 0 0 0 0 0 0 0 0 0 0 0 0 0 1 0 0 0 1 0 0 0 0\n",
            " 0 0 0 1 0 0 0 0 0 1 0 0 1 0 1 0 0 0 0 0 0 0 0 1 0 0 0 1 1 0 0 1 0 0 1 0 1\n",
            " 0 0 0 0 0 0 0 1 0 0 0 0 0 0 0 0 1 1 1 0 0 0 1 0 1 0 0 1 0 0 0 0 0 0 0 1 0\n",
            " 0 1 0 0 0 0 1 0 0 1 0 1 0 1 0 0 0 1 0 0 0 0 0 0 0 0 0 0 0 0 0 0 0 1 1 0 1\n",
            " 1 0 0 0 1 0 1 0 0 0 0 0 1 0 1 0 0 0 0 0 0 0 1 1 0 0 0 0 0 0 0 0 0 0 0 1 0\n",
            " 0 0 1 0 0 1 0 0 1 1 0 0 0 0 0 1 1 0 0 1 0 0 0 0 0 0 0 0 0 0 1 1 0 0 0 1 0\n",
            " 0 0 1 0 0 0 0 0 1 0 0 0 0 0 0 1 1 1 0 0 1 1 0 1 0 0 0 0 1 1 0 0 0 0 1 0 1\n",
            " 1 1 0 0 0 0 0 0 0 0 0 0 1 1 0 1 0 1 0 0 0 0 1 1 1 0 1 1 0]\n",
            "FEMALE admitted proportion:  24.427480916030532\n",
            "MALE admitted proportion:  26.701570680628272\n",
            "Difference female-male :  -2.27408976459774\n"
          ],
          "name": "stdout"
        }
      ]
    },
    {
      "cell_type": "code",
      "metadata": {
        "id": "qV4zpO5_1ans",
        "colab_type": "code",
        "colab": {
          "base_uri": "https://localhost:8080/",
          "height": 377
        },
        "outputId": "19b6d816-234b-4044-b08d-543ef353ae7f"
      },
      "source": [
        "def one_trial():\n",
        "  #Populate total admission with 584 observations: 147 admit, 437 reject\n",
        "  import numpy as np\n",
        "  total_admissions = np.array([0]*437 +[1]*147)\n",
        "\n",
        "  #Now we have 147 admit (1) and 437 reject(0)\n",
        "  # print(len(total_admissions))\n",
        "  # print(total_admissions)\n",
        "\n",
        "  #Shuffle the list, so as  to be random :) \n",
        "  np.random.shuffle(total_admissions)\n",
        "  #print(total_admissions.tolist())\n",
        "  total_admissions=total_admissions.tolist()\n",
        "\n",
        "  ##Draw 393 females without replacement from available data pool, record proportion \n",
        "  length= len(total_admissions)\n",
        "  female_counter= 0\n",
        "  for x in range(393):\n",
        "    a= np.random.randint(0,length)\n",
        "    b= total_admissions[a]\n",
        "  \n",
        "    if(b==1):\n",
        "      female_counter +=1\n",
        "  \n",
        "    del total_admissions[a]\n",
        "    length -=1\n",
        "\n",
        "  female_prop =(female_counter/393)*100\n",
        "\n",
        "  ##Draw 191 males without replacement from available data pool, record proportion \n",
        "  length= len(total_admissions)\n",
        "  male_counter= 0\n",
        "  for x in range(191):\n",
        "    a= np.random.randint(0,length)\n",
        "    b= total_admissions[a]\n",
        "  \n",
        "    if(b==1):\n",
        "      male_counter +=1\n",
        "  \n",
        "    del total_admissions[a]\n",
        "    length -=1\n",
        "\n",
        "  male_prop =(male_counter/191)*100\n",
        "\n",
        "  difference =female_prop-male_prop\n",
        "  \n",
        "  return difference\n",
        "\n",
        "import matplotlib.pyplot as plt\n",
        "\n",
        "diff_list = []\n",
        "for x in range(1000):\n",
        "  diff_list.append(one_trial())\n",
        "_=plt.hist(diff_list, bins= 100)\n",
        "\n",
        "#Calculate p-value\n",
        "p = sum(np.array(diff_list) <= (23.92 - 27.75))/1000\n",
        "print('P-value (alpha=0.05): ', p)\n",
        "\n",
        "print('Conclusion: there seems to be no discrimination in this departement given that the difference between the two groups proportions are within \\n'\n",
        "'chance variation. More specifically, the probability of getting a result as extreme as the observed or more (3.92 - 27.75 = -3.83) happens with a \\n'\n",
        "'probability of ' ,p*100,' % which is indeed a plausible result under the current model. Hence, fail to reject H0 (status quo persists) given that \\n'\n",
        "'perceived discriminatory results might simply be the result of chance.')"
      ],
      "execution_count": 101,
      "outputs": [
        {
          "output_type": "stream",
          "text": [
            "P-value (alpha=0.05):  0.178\n",
            "Conclusion: there seems to be no discrimination in this departement given that the difference between the two groups proportions are within \n",
            "chance variation. More specifically, the probability of getting a result as extreme as the observed or more (3.92 - 27.75 = -3.83) happens with a \n",
            "probability of  17.8  % which is indeed a plausible result under the current model. Hence, fail to reject H0 (status quo persists) given that \n",
            "perceived discriminatory results might simply be the result of chance.\n"
          ],
          "name": "stdout"
        },
        {
          "output_type": "display_data",
          "data": {
            "image/png": "[encoded data removed]",
            "text/plain": [
              "<Figure size 432x288 with 1 Axes>"
            ]
          },
          "metadata": {
            "tags": [],
            "needs_background": "light"
          }
        }
      ]
    },
    {
      "cell_type": "code",
      "metadata": {
        "id": "Vs6GnbWEY683",
        "colab_type": "code",
        "colab": {}
      },
      "source": [
        ""
      ],
      "execution_count": null,
      "outputs": []
    }
  ]
}