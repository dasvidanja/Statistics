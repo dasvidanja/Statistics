{
  "nbformat": 4,
  "nbformat_minor": 0,
  "metadata": {
    "colab": {
      "name": "Permutation Example.ipynb",
      "provenance": []
    },
    "kernelspec": {
      "name": "python3",
      "display_name": "Python 3"
    }
  },
  "cells": [
    {
      "cell_type": "markdown",
      "metadata": {
        "id": "zilXA-OCpVmk",
        "colab_type": "text"
      },
      "source": [
        "**Exercise 1:**\n",
        "\n",
        "---\n",
        "\n",
        "- Hypothesis:\n",
        "\n",
        "  Evidence has been produced that famous people are less likely to die in the month of their birthday than in other months. The (skeptical) hypothesis is that dying is equally likely in any month regardless of birthday. \n",
        "\n",
        "- Simulation: \n",
        "\n",
        "  - Now, suppose that of 120 celebrity deaths,only seven occurred in the month of their birthday.\n",
        "  - Imagine a hat with 12 cards, each card a month, as well as a list of the 120 celebrity birthdays. \n",
        "  - We shuffle and pick a card to simulate a death, noting whether it matched the first celebrity birth month. \n",
        "  - We then repeat this (replacing the card each time, of course),each time noting whether the month picked from the hat matched the next birth month,and so on, until we have gone all the way through the 120 names on the list.\n",
        "  \n",
        "  - Then, we repeat this procedure 100 times for a total of 100 simulations. Each time we record the number of matches we got between the 120 picks from the hat (thesimulated deaths) and the list of 120 birthdays.\n",
        "\n",
        " - We obtained the following frequency distribution. To understand this, look at the second numerical row—it means that 3 ofthe 100 simulations produced exactly seven matches between the card drawn from the hat and the birthday on the list.\n",
        " \n",
        "- What is your conclusion and why?\n",
        "\n",
        "---"
      ]
    },
    {
      "cell_type": "code",
      "metadata": {
        "id": "Bdn3s5-0qJMI",
        "colab_type": "code",
        "colab": {
          "base_uri": "https://localhost:8080/",
          "height": 320
        },
        "outputId": "947db16a-3cc1-42a9-c8d6-55cbc8115c10"
      },
      "source": [
        "''' \n",
        "Ho: Celebrities are likley to die on their birthday month as any other  month\n",
        "\n",
        "Ha: Celebrities are less likely to die on their birthday month , observed 7/120 \n",
        "\n",
        "'''\n",
        "import numpy as np\n",
        "import matplotlib.pyplot as plt\n",
        "\n",
        "# Define list of 120 birhtday's (1-12, where 1 is Jan, 2 is Feb, ...\n",
        "birthdays =[]\n",
        "\n",
        "# Populate list with 120 birthdays\n",
        "for x in range(120):\n",
        "  birthdays.append(np.random.randint(1,13))\n",
        "\n",
        "#For each birthday sample with replacement from the months count total (death== birth month) matches \n",
        "## & (repeat 1000 times)\n",
        "matches = []\n",
        "\n",
        "for x in range(1000):\n",
        "  count= 0\n",
        "  for x in birthdays:\n",
        "    month= np.random.randint(1,13)\n",
        "    if (month == x):\n",
        "      count +=1\n",
        "  matches.append(count)\n",
        "\n",
        "#bin size for hist\n",
        "bin_len = int(np.sqrt(len(matches)))\n",
        "\n",
        "#Plotting his\n",
        "_=plt.hist(matches)\n",
        "\n",
        "\n",
        "m = np.array(matches)\n",
        "#P-value, probability of getting a result as extreme as the observed under the chance model\n",
        "p_val = sum(m<7)/len(m)\n",
        "print(\"P-value is: \", p_val)\n",
        "\n",
        "#Conclusion\n",
        "print('The results are not statistically significant (alpha=0.05). So our conclsion, is that a celebrity \\n is as likely to die on their birthday as any other month.')"
      ],
      "execution_count": 60,
      "outputs": [
        {
          "output_type": "stream",
          "text": [
            "P-value is:  0.103\n",
            "The results are not statistically significant (alpha=0.05). So our conclsion, is that a celebrity \n",
            " is as likely to die on their birthday as any other month.\n"
          ],
          "name": "stdout"
        },
        {
          "output_type": "display_data",
          "data": {
            "image/png": "[encoded data removed]",
            "text/plain": [
              "<Figure size 432x288 with 1 Axes>"
            ]
          },
          "metadata": {
            "tags": [],
            "needs_background": "light"
          }
        }
      ]
    },
    {
      "cell_type": "code",
      "metadata": {
        "id": "9-ckRs2F4oOh",
        "colab_type": "code",
        "colab": {
          "base_uri": "https://localhost:8080/",
          "height": 312
        },
        "outputId": "d1580446-d22f-42c9-d86f-1774faf1778c"
      },
      "source": [
        "# Repeating 5 Permutations of 1000\n",
        "\n",
        "def permutation():\n",
        "  # Define list of 120 birhtday's (1-12, where 1 is Jan, 2 is Feb, ...\n",
        "  birthdays =[]\n",
        "\n",
        "  # Populate list with 120 birthdays\n",
        "  for x in range(120):\n",
        "    birthdays.append(np.random.randint(1,13))\n",
        "\n",
        "  #For each birthday sample with replacement from the months count total (death== birth month) matches \n",
        "  ## & (repeat 1000 times)\n",
        "  matches = []\n",
        "\n",
        "  for x in range(1000):\n",
        "    count= 0\n",
        "    for x in birthdays:\n",
        "      month= np.random.randint(1,13)\n",
        "      if (month == x):\n",
        "        count +=1\n",
        "    matches.append(count)\n",
        "\n",
        "  m = np.array(matches)\n",
        "  #P-value, probability of getting a result as extreme as the observed under the chance model\n",
        "  p_val = sum(m<7)/len(m)\n",
        "\n",
        "  return (matches, p_val)\n",
        "\n",
        "\n",
        "\n",
        "\n",
        "my_dict = {}\n",
        "p_val = []\n",
        "\n",
        "for x in range(5):\n",
        "  if x not in my_dict.values():\n",
        "    a,b = permutation()\n",
        "    p_val.append(b)\n",
        "    my_dict[x] = a\n",
        "\n",
        "fig, ax = plt.subplots()\n",
        "ax.boxplot(my_dict.values())\n",
        "ax.set_xticklabels(my_dict.keys())\n",
        "fig.suptitle(\"Median value of Deaths on the same month of Birthday\", fontsize = 13, color = 'red')\n",
        "\n",
        "print(\"P-values: \",p_val)"
      ],
      "execution_count": 102,
      "outputs": [
        {
          "output_type": "stream",
          "text": [
            "P-values:  [0.135, 0.114, 0.126, 0.099, 0.119]\n"
          ],
          "name": "stdout"
        },
        {
          "output_type": "display_data",
          "data": {
            "image/png": "[encoded data removed]",
            "text/plain": [
              "<Figure size 432x288 with 1 Axes>"
            ]
          },
          "metadata": {
            "tags": [],
            "needs_background": "light"
          }
        }
      ]
    }
  ]
}