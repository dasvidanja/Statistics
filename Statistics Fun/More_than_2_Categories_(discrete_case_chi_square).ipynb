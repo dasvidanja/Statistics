{
  "nbformat": 4,
  "nbformat_minor": 0,
  "metadata": {
    "colab": {
      "name": "More than 2 Categories (discrete case-chi-square)",
      "provenance": [],
      "collapsed_sections": []
    },
    "kernelspec": {
      "name": "python3",
      "display_name": "Python 3"
    }
  },
  "cells": [
    {
      "cell_type": "markdown",
      "metadata": {
        "id": "KxB4U1cyW1bu",
        "colab_type": "text"
      },
      "source": [
        "**Problem Background** \n",
        "\n",
        "\"*Marriage Therapy* \n",
        "\n",
        "Question: Do behavioral and insight therapies for marriage counselingdiffer in effectiveness? \n",
        "\n",
        "Behavioral therapy stresses the skills of managing interpersonal relationships and insight therapy stresses working out underlying difficulties. Fifty-nine couples were randomly assigned, with 29 to the behavioral therapy group and 30 to the insight therapy group. At a 4-year follow-up, 15 of the behavioral group were happily married (HM),three were distressed married (DM), and 11 were divorced (DIV). The insight group had 24 HM, five DM, and one DIV: (Data from Douglas K. Snyder, Robert M. Wills, ArvetaGrady-Fletcher, “Long-Term Effectiveness of Behavioral Versus Insight-Oriented MaritalTherapy”,Journal of Consulting and Clinical Psychology, 1991, v. 59, No. 1, 138–141)(Table 9.2).TA \"\n"
      ]
    },
    {
      "cell_type": "code",
      "metadata": {
        "id": "TovNz_vgWZkX",
        "colab_type": "code",
        "colab": {
          "base_uri": "https://localhost:8080/",
          "height": 162
        },
        "outputId": "b2df09f4-4100-44f8-b6bb-474093a17238"
      },
      "source": [
        "#Data Table 1\n",
        "import pandas as pd\n",
        "import numpy as np\n",
        "\n",
        "table1 = {'Happily Married': [15,24,39],\n",
        "         'Distressed Married': [3,5,8],\n",
        "         'Divorced': [11,1,12],\n",
        "          'Total': [29,30,59]\n",
        "          }\n",
        "data1= pd.DataFrame(table1, index=['Behavioral','Insight','Total 2'])\n",
        "print('\\033[1m \\033[95m'+'Marriage Therapy')\n",
        "display(data1.head())"
      ],
      "execution_count": 131,
      "outputs": [
        {
          "output_type": "stream",
          "text": [
            "\u001b[1m \u001b[95mMarriage Therapy\n"
          ],
          "name": "stdout"
        },
        {
          "output_type": "display_data",
          "data": {
            "text/html": [
              "<div>\n",
              "<style scoped>\n",
              "    .dataframe tbody tr th:only-of-type {\n",
              "        vertical-align: middle;\n",
              "    }\n",
              "\n",
              "    .dataframe tbody tr th {\n",
              "        vertical-align: top;\n",
              "    }\n",
              "\n",
              "    .dataframe thead th {\n",
              "        text-align: right;\n",
              "    }\n",
              "</style>\n",
              "<table border=\"1\" class=\"dataframe\">\n",
              "  <thead>\n",
              "    <tr style=\"text-align: right;\">\n",
              "      <th></th>\n",
              "      <th>Happily Married</th>\n",
              "      <th>Distressed Married</th>\n",
              "      <th>Divorced</th>\n",
              "      <th>Total</th>\n",
              "    </tr>\n",
              "  </thead>\n",
              "  <tbody>\n",
              "    <tr>\n",
              "      <th>Behavioral</th>\n",
              "      <td>15</td>\n",
              "      <td>3</td>\n",
              "      <td>11</td>\n",
              "      <td>29</td>\n",
              "    </tr>\n",
              "    <tr>\n",
              "      <th>Insight</th>\n",
              "      <td>24</td>\n",
              "      <td>5</td>\n",
              "      <td>1</td>\n",
              "      <td>30</td>\n",
              "    </tr>\n",
              "    <tr>\n",
              "      <th>Total 2</th>\n",
              "      <td>39</td>\n",
              "      <td>8</td>\n",
              "      <td>12</td>\n",
              "      <td>59</td>\n",
              "    </tr>\n",
              "  </tbody>\n",
              "</table>\n",
              "</div>"
            ],
            "text/plain": [
              "            Happily Married  Distressed Married  Divorced  Total\n",
              "Behavioral               15                   3        11     29\n",
              "Insight                  24                   5         1     30\n",
              "Total 2                  39                   8        12     59"
            ]
          },
          "metadata": {
            "tags": []
          }
        }
      ]
    },
    {
      "cell_type": "markdown",
      "metadata": {
        "id": "f71zrS3uZKFw",
        "colab_type": "text"
      },
      "source": [
        "**Question**\n",
        "\n",
        "Are the differences among the groups significant? One way to solve this dilemma is to use the concept of \"Departure from expecation.\" The idea is simple given that it test the scenario in which 'what we would expect if chance variation was at work ' and then we compare our result (statistic from sample) and where it fits in this chance model."
      ]
    },
    {
      "cell_type": "code",
      "metadata": {
        "id": "FF8C7v9vacx7",
        "colab_type": "code",
        "colab": {
          "base_uri": "https://localhost:8080/",
          "height": 131
        },
        "outputId": "ebb906a6-76e5-4bd9-e9e7-46fb916fba44"
      },
      "source": [
        "#Calculating Expectation (If treatement gave same results- no difference among the different categories/treatemtns)\n",
        "\n",
        "#Behavioral Categories\n",
        "b_HM = (data1.loc['Total 2','Happily Married']/data1.loc['Total 2','Total'])* data1.loc['Behavioral','Total']\n",
        "b_DM = (data1.loc['Total 2','Distressed Married']/data1.loc['Total 2','Total'])* data1.loc['Behavioral','Total']\n",
        "b_D = (data1.loc['Total 2','Divorced']/data1.loc['Total 2','Total'])* data1.loc['Behavioral','Total']\n",
        "\n",
        "#Insight Categories\n",
        "i_HM = (data1.loc['Total 2','Happily Married']/data1.loc['Total 2','Total'])* data1.loc['Insight','Total']\n",
        "i_DM = (data1.loc['Total 2','Distressed Married']/data1.loc['Total 2','Total'])* data1.loc['Insight','Total']\n",
        "i_D = (data1.loc['Total 2','Divorced']/data1.loc['Total 2','Total'])* data1.loc['Insight','Total']\n",
        "\n",
        "#Putting in tabular format \n",
        "table2 = {'Happily Married': [0,0],\n",
        "         'Distressed Married': [0,0],\n",
        "         'Divorced': [0,0]\n",
        "          }\n",
        "        \n",
        "#Data Frame \n",
        "data2= pd.DataFrame(table2, index=['Behavioral','Insight'])\n",
        "\n",
        "#Adding results\n",
        "data2.loc['Behavioral','Happily Married'] = round(b_HM,2)\n",
        "data2.loc['Behavioral','Distressed Married'] = round(b_DM,2)\n",
        "data2.loc['Behavioral','Divorced'] = round(b_D,2)\n",
        "\n",
        "data2.loc['Insight','Happily Married'] = round(i_HM,2)\n",
        "data2.loc['Insight','Distressed Married'] = round(i_DM,2)\n",
        "data2.loc['Insight','Divorced'] = round(i_D,2)\n",
        "\n",
        "#Final Output\n",
        "print('\\033[1m \\033[94m'+'Expected Outcomes if Treatments Yield the Same Results')\n",
        "display(data2.head())\n"
      ],
      "execution_count": 147,
      "outputs": [
        {
          "output_type": "stream",
          "text": [
            "\u001b[1m \u001b[94mExpected Outcomes if Treatments Yield the Same Results\n"
          ],
          "name": "stdout"
        },
        {
          "output_type": "display_data",
          "data": {
            "text/html": [
              "<div>\n",
              "<style scoped>\n",
              "    .dataframe tbody tr th:only-of-type {\n",
              "        vertical-align: middle;\n",
              "    }\n",
              "\n",
              "    .dataframe tbody tr th {\n",
              "        vertical-align: top;\n",
              "    }\n",
              "\n",
              "    .dataframe thead th {\n",
              "        text-align: right;\n",
              "    }\n",
              "</style>\n",
              "<table border=\"1\" class=\"dataframe\">\n",
              "  <thead>\n",
              "    <tr style=\"text-align: right;\">\n",
              "      <th></th>\n",
              "      <th>Happily Married</th>\n",
              "      <th>Distressed Married</th>\n",
              "      <th>Divorced</th>\n",
              "    </tr>\n",
              "  </thead>\n",
              "  <tbody>\n",
              "    <tr>\n",
              "      <th>Behavioral</th>\n",
              "      <td>19.17</td>\n",
              "      <td>3.93</td>\n",
              "      <td>5.9</td>\n",
              "    </tr>\n",
              "    <tr>\n",
              "      <th>Insight</th>\n",
              "      <td>19.83</td>\n",
              "      <td>4.07</td>\n",
              "      <td>6.1</td>\n",
              "    </tr>\n",
              "  </tbody>\n",
              "</table>\n",
              "</div>"
            ],
            "text/plain": [
              "            Happily Married  Distressed Married  Divorced\n",
              "Behavioral            19.17                3.93       5.9\n",
              "Insight               19.83                4.07       6.1"
            ]
          },
          "metadata": {
            "tags": []
          }
        }
      ]
    },
    {
      "cell_type": "markdown",
      "metadata": {
        "id": "jYoKhX3wnHD2",
        "colab_type": "text"
      },
      "source": [
        "The next step is to determine the extent to which the observed results differ from the expected results. Direction does not matter so we take absolute values."
      ]
    },
    {
      "cell_type": "code",
      "metadata": {
        "id": "5tULdkyglK9v",
        "colab_type": "code",
        "colab": {
          "base_uri": "https://localhost:8080/",
          "height": 149
        },
        "outputId": "5258b048-2cff-46d6-c345-8b604935a595"
      },
      "source": [
        "#Calculating Differences \n",
        "\n",
        "#Behavioral Categories\n",
        "b_HM = abs((data1.loc['Behavioral','Happily Married'] - data2.loc['Behavioral','Happily Married']))\n",
        "b_DM = abs((data1.loc['Behavioral','Distressed Married'] - data2.loc['Behavioral','Distressed Married']))\n",
        "b_D = abs((data1.loc['Behavioral','Divorced'] - data2.loc['Behavioral','Divorced']))\n",
        "\n",
        "#Insight Categories\n",
        "i_HM = abs((data1.loc['Insight','Happily Married'] - data2.loc['Insight','Happily Married']))\n",
        "i_DM = abs((data1.loc['Insight','Distressed Married'] - data2.loc['Insight','Distressed Married']))\n",
        "i_D = abs((data1.loc['Insight','Divorced'] - data2.loc['Insight','Divorced']))\n",
        "\n",
        "#Putting in tabular format \n",
        "table3 = {'Happily Married': [0,0],\n",
        "         'Distressed Married': [0,0],\n",
        "         'Divorced': [0,0]\n",
        "          }\n",
        "        \n",
        "#Data Frame \n",
        "data3= pd.DataFrame(table3, index=['Behavioral','Insight'])\n",
        "\n",
        "#Adding results\n",
        "data3.loc['Behavioral','Happily Married'] = round(b_HM,2)\n",
        "data3.loc['Behavioral','Distressed Married'] = round(b_DM,2)\n",
        "data3.loc['Behavioral','Divorced'] = round(b_D,2)\n",
        "\n",
        "data3.loc['Insight','Happily Married'] = round(i_HM,2)\n",
        "data3.loc['Insight','Distressed Married'] = round(i_DM,2)\n",
        "data3.loc['Insight','Divorced'] = round(i_D,2)\n",
        "\n",
        "#Final Output\n",
        "print('\\033[1m \\033[91m'+'Expected Outcomes if Treatments Yield the Same Results')\n",
        "display(data3.head())\n",
        "\n",
        "dif_sum = sum(data3.loc['Behavioral'].values) + sum(data3.loc['Insight'].values)\n",
        "print(\"Sum of differences: \" , dif_sum)"
      ],
      "execution_count": 157,
      "outputs": [
        {
          "output_type": "stream",
          "text": [
            "\u001b[1m \u001b[91mExpected Outcomes if Treatments Yield the Same Results\n"
          ],
          "name": "stdout"
        },
        {
          "output_type": "display_data",
          "data": {
            "text/html": [
              "<div>\n",
              "<style scoped>\n",
              "    .dataframe tbody tr th:only-of-type {\n",
              "        vertical-align: middle;\n",
              "    }\n",
              "\n",
              "    .dataframe tbody tr th {\n",
              "        vertical-align: top;\n",
              "    }\n",
              "\n",
              "    .dataframe thead th {\n",
              "        text-align: right;\n",
              "    }\n",
              "</style>\n",
              "<table border=\"1\" class=\"dataframe\">\n",
              "  <thead>\n",
              "    <tr style=\"text-align: right;\">\n",
              "      <th></th>\n",
              "      <th>Happily Married</th>\n",
              "      <th>Distressed Married</th>\n",
              "      <th>Divorced</th>\n",
              "    </tr>\n",
              "  </thead>\n",
              "  <tbody>\n",
              "    <tr>\n",
              "      <th>Behavioral</th>\n",
              "      <td>4.17</td>\n",
              "      <td>0.93</td>\n",
              "      <td>5.1</td>\n",
              "    </tr>\n",
              "    <tr>\n",
              "      <th>Insight</th>\n",
              "      <td>4.17</td>\n",
              "      <td>0.93</td>\n",
              "      <td>5.1</td>\n",
              "    </tr>\n",
              "  </tbody>\n",
              "</table>\n",
              "</div>"
            ],
            "text/plain": [
              "            Happily Married  Distressed Married  Divorced\n",
              "Behavioral             4.17                0.93       5.1\n",
              "Insight                4.17                0.93       5.1"
            ]
          },
          "metadata": {
            "tags": []
          }
        },
        {
          "output_type": "stream",
          "text": [
            "Sum of differences:  20.4\n"
          ],
          "name": "stdout"
        }
      ]
    },
    {
      "cell_type": "markdown",
      "metadata": {
        "id": "HHA08J_3syZa",
        "colab_type": "text"
      },
      "source": [
        "**The Key Question**\n",
        "\n",
        "*Is this a greater sum of differences than we might expect from a random allocation of outcomes to 29 couples of the behavioral group and 30 couples of the insight group?*\n",
        "\n",
        "```\n",
        "Permuataiton Procedure Resampling \n",
        "1. Fill a single urn with 39 ones (HM), 8 twos (distress married), and 12 threes(divorced).\n",
        "2. Shuffle the urn and take two samples without replacement of sizes 29 and 30.\n",
        "3. Count the number of ones, twos, and threes in each sample.\n",
        "4. Reconstruct the resampled counterparts to Tables 1 and 3 and record the resampled statistic of interest—the sum of absolute differences−observed value=20.42.\n",
        "5. Repeat steps two through four 10,000 times.\n",
        "6. Determine how often the resampled sum of differences exceeds the observed value of2 0.42.\n",
        "```"
      ]
    },
    {
      "cell_type": "code",
      "metadata": {
        "id": "ICEs05M3r4kd",
        "colab_type": "code",
        "colab": {
          "base_uri": "https://localhost:8080/",
          "height": 389
        },
        "outputId": "108971ca-1a4c-4440-f3cc-0ba75fb07662"
      },
      "source": [
        "import numpy as np\n",
        "#Create reppresenative sample data\n",
        "thy_data =  np.array([1]*39 +[2]*8+ [3]*12)\n",
        "#Shuffle\n",
        "np.random.shuffle(thy_data)\n",
        "\n",
        "differences = []\n",
        "#10,000 trials without replacement \n",
        "for x in range(10000):\n",
        "  np.random.shuffle(thy_data)\n",
        "  temp_data = thy_data.tolist()\n",
        "\n",
        "  #Behavioral Sample (29)\n",
        "  length= len(temp_data)\n",
        "  b_HM= 0\n",
        "  b_DM= 0\n",
        "  b_D = 0 \n",
        "\n",
        "  for x in range(29):\n",
        "    a= np.random.randint(0,length)\n",
        "    b= temp_data[a]\n",
        "    if (b==1):\n",
        "      b_HM +=1\n",
        "    elif (b==2):\n",
        "      b_DM +=1\n",
        "    else:\n",
        "      b_D +=1\n",
        "    \n",
        "    del temp_data[a]\n",
        "    length -=1\n",
        "  \n",
        "  #Insight Sample (30) - since its with replacement we can just count the remaining 1's,2's,th\n",
        "  temp = np.array(temp_data)\n",
        "  i_HM=sum(temp==1)\n",
        "  i_DM=sum(temp==2)\n",
        "  i_D=sum(temp==3)\n",
        "\n",
        "\n",
        "  #Expectations\n",
        "  #Behavioral\n",
        "  exp_b_HM = ((b_HM +i_HM)/59) * 29\n",
        "  exp_b_DM = ((b_DM +i_DM)/59) * 29\n",
        "  exp_b_D = ((b_D +i_D)/59) *  29\n",
        "\n",
        "  #Insight\n",
        "  exp_i_HM = ((b_HM +i_HM)/59) * 30\n",
        "  exp_i_DM = ((b_DM +i_DM)/59) * 30\n",
        "  exp_i_D = ((b_D +i_D)/59) * 30\n",
        "\n",
        "\n",
        "  #Absolute value of Observed - Expected \n",
        "  #Behavioral\n",
        "  diff_b_HM = abs(b_HM-exp_b_HM)\n",
        "  diff_b_DM = abs(b_DM-exp_b_DM)\n",
        "  diff_b_D = abs(b_D-exp_b_D)\n",
        "\n",
        "  #Insight\n",
        "  diff_i_HM = abs(i_HM-exp_i_HM)\n",
        "  diff_i_DM = abs(i_DM-exp_i_DM)\n",
        "  diff_i_D = abs(i_D-exp_i_D)\n",
        "\n",
        "  #Sum of differences\n",
        "  diff_sum = diff_b_HM+ diff_b_DM+ diff_b_D+ diff_i_HM+ diff_i_DM+ diff_i_D\n",
        "  differences.append(diff_sum)\n",
        "\n",
        "\n",
        "\n",
        "#Conclusion, let us calculate the p-value\n",
        "p_value = sum(np.array(differences)>= (20.4))/10000\n",
        "print('P-value: ', p_value, ' with a 95% CL and an alpha of 5% we are bound to reject the null hypothesis in favor of the alternative. The results are statistically significant- The chance occurrence of the observed value is so rare that we conclude that there is a real difference among the therapies')\n",
        "print('\\n')\n",
        "\n",
        "import matplotlib.pyplot as plt\n",
        "_=plt.hist(differences)\n",
        "_=plt.title('Histogram of the 10000 Resamples without replacement', fontweight='bold')\n",
        "_=plt.xlabel('Sum of Differences')\n",
        "_=plt.ylabel('Frequency of each difference')\n",
        "_=plt.figure(figsize=(50,20))\n",
        "_=plt.show()\n"
      ],
      "execution_count": 186,
      "outputs": [
        {
          "output_type": "stream",
          "text": [
            "P-value:  0.0072  with a 95% CL and an alpha of 5% we are bound to reject the null hypothesis in favor of the alternative. The results are statistically significant- The chance occurrence of the observed value is so rare that we conclude that there is a real difference among the therapies\n",
            "\n",
            "\n"
          ],
          "name": "stdout"
        },
        {
          "output_type": "display_data",
          "data": {
            "image/png": "[encoded data removed]",
            "text/plain": [
              "<Figure size 432x288 with 1 Axes>"
            ]
          },
          "metadata": {
            "tags": [],
            "needs_background": "light"
          }
        },
        {
          "output_type": "display_data",
          "data": {
            "text/plain": [
              "<Figure size 3600x1440 with 0 Axes>"
            ]
          },
          "metadata": {
            "tags": []
          }
        }
      ]
    }
  ]
}