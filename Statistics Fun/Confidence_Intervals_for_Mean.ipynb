{
  "nbformat": 4,
  "nbformat_minor": 0,
  "metadata": {
    "colab": {
      "name": "Confidence Intervals for Mean.ipynb",
      "provenance": []
    },
    "kernelspec": {
      "name": "python3",
      "display_name": "Python 3"
    }
  },
  "cells": [
    {
      "cell_type": "code",
      "metadata": {
        "id": "nekgRkZb2KjE",
        "colab_type": "code",
        "colab": {
          "base_uri": "https://localhost:8080/",
          "height": 110
        },
        "outputId": "442d824f-f5c4-4429-c827-6a321d85c16f"
      },
      "source": [
        "#Generate 40 observations \n",
        "import numpy as np\n",
        "np.random.seed(40)\n",
        "\n",
        "my_list = []\n",
        "for x in range(40):\n",
        "  my_list.append(np.random.randint(0,1000))\n",
        "\n",
        "#Check  out list \n",
        "print('40 observations',my_list) \n",
        "\n",
        "#Find the point estimate (mean in this case)\n",
        "mean_my_list =float (np.array(my_list).mean())\n",
        "print('Mean', mean_my_list)\n",
        "\n",
        "#Compute Confidence Interval for a  mean \n",
        "'''The usual formula to calculate a (90,95,99,....)CI for a mean is:\n",
        "    x_bar +- z*s/sqrt(n), where\n",
        "    x_bar = mean \n",
        "    z     = z multiplier (look at confidence level for its specific value)\n",
        "    s     =   sample standard deviation (n-1)\n",
        "    n     =  sample size'''\n",
        "\n",
        "#We have two routes we can take: Bootstrap Resampling or formula approach\n",
        "##  (for BR check out github at https://github.com/dasvidanja/Statistics/blob/master/Statistics%20Fun/Resampling_with_Bootstrap.ipynbhttps://github.com/dasvidanja/Statistics/blob/master/Statistics%20Fun/Resampling_with_Bootstrap.ipynb)\n",
        "\n",
        "#FORMULA APROACH (95% CL)\n",
        "x_bar = mean_my_list\n",
        "z= 1.96\n",
        "s = np.std(my_list, ddof=1) #ddof ensure to use n-1 given we are using a sample\n",
        "n = int(len(my_list))\n",
        "\n",
        "#interval\n",
        "print('Interval ', ( x_bar - z*(s/np.sqrt(n)), x_bar + z* (s/np.sqrt(n))))\n",
        "\n",
        "#Margin of Error\n",
        "a= 484.725-(x_bar - z*(s/np.sqrt(n))) \n",
        "b=(x_bar + z* (s/np.sqrt(n))) -484.725\n",
        "print('Margin of errror:' , a,b)\n"
      ],
      "execution_count": 34,
      "outputs": [
        {
          "output_type": "stream",
          "text": [
            "40 observations [326, 219, 7, 165, 440, 306, 705, 268, 839, 626, 531, 671, 842, 55, 979, 443, 91, 73, 736, 817, 693, 329, 8, 436, 670, 207, 270, 860, 500, 616, 698, 714, 22, 131, 731, 867, 711, 567, 241, 979]\n",
            "Mean 484.725\n",
            "Interval  (393.04340797700013, 576.4065920229999)\n",
            "Margin of errror: 91.6815920229999 91.6815920229999\n"
          ],
          "name": "stdout"
        }
      ]
    },
    {
      "cell_type": "code",
      "metadata": {
        "id": "CYFqgZVH6cNB",
        "colab_type": "code",
        "colab": {
          "base_uri": "https://localhost:8080/",
          "height": 90
        },
        "outputId": "09953b4c-d58f-4529-85cf-e70739d1ee80"
      },
      "source": [
        "''' Now, what if we didn't have 40  observations, say instead we had 20. Will our formula be still good? '''\n",
        "\n",
        "#Generate 40 observations \n",
        "import numpy as np\n",
        "np.random.seed(20)\n",
        "\n",
        "my_list = []\n",
        "for x in range(20):\n",
        "  my_list.append(np.random.randint(0,1000))\n",
        "\n",
        "#Check  out list \n",
        "print('20 observations',my_list) \n",
        "\n",
        "#Find the point estimate (mean in this case)\n",
        "mean_my_list =float (np.array(my_list).mean())\n",
        "print('Mean', mean_my_list)\n",
        "\n",
        "#FORMULA APROACH (95% CL)\n",
        "x_bar = mean_my_list\n",
        "z= 1.96\n",
        "s = np.std(my_list, ddof=1) #ddof ensure to use n-1 given we are using a sample\n",
        "n = int(len(my_list))\n",
        "\n",
        "#interval\n",
        "print('Interval ', ( x_bar - z*(s/np.sqrt(n)), x_bar + z* (s/np.sqrt(n))))\n",
        "\n",
        "a= 539-(x_bar - z*(s/np.sqrt(n)) ) \n",
        "b=(x_bar + z* (s/np.sqrt(n))) -539.05\n",
        "print('Margin of errror:' , a,b)\n"
      ],
      "execution_count": 35,
      "outputs": [
        {
          "output_type": "stream",
          "text": [
            "20 observations [355, 474, 271, 223, 924, 218, 393, 404, 843, 790, 583, 162, 992, 118, 552, 469, 474, 794, 763, 979]\n",
            "Mean 539.05\n",
            "Interval  (415.88253206433035, 662.2174679356696)\n",
            "Margin of errror: 123.11746793566965 123.1674679356696\n"
          ],
          "name": "stdout"
        }
      ]
    },
    {
      "cell_type": "code",
      "metadata": {
        "id": "rrOEvuOF7U3n",
        "colab_type": "code",
        "colab": {
          "base_uri": "https://localhost:8080/",
          "height": 54
        },
        "outputId": "31913481-46b8-4f88-9069-7dcdd7635aa5"
      },
      "source": [
        "''' With a small sample size there is a great variability/uncertainty that comes with it (a tiny sample can't be too reppresentative of the\n",
        "whole population). As a result using the z scores (a.k.a the Normal Distribuition is not appropriate anymore. But fear no more, we have another\n",
        "distribution the 't-distribution' a.k.a Student's distribution that allows us to come up with a CI for the mean even when we  have  samller \n",
        "sample size (smaller than 30, for greater than 30 is the same as Normal.) '''\n",
        "\n",
        "#Formula\n",
        "''' \n",
        "x_bar +- t (n-1),(alpha/2) *s/sqrt(n)\n",
        "x_bar = mean\n",
        "t(n-1),(alpha/2) = n-1 reppresent the degrees of freedom (n sample size), alpha/2 is relative to the confidence level. Both of these can be found on a t table\n",
        "s  =  sample sandard deviation\n",
        "n  = sample size'''\n",
        "from scipy.stats import t\n",
        "x_bar = mean_my_list\n",
        "my_t= t.ppf(1-0.05/2, 19) # ppf (alpha/2 , n-1)\n",
        "s = np.std(my_list,ddof=1)\n",
        "n= np.sqrt(int(len(my_list)))\n",
        "\n",
        "print('CI using t-dist is ', (x_bar - my_t*(s/np.sqrt(n)), x_bar + my_t* (s/np.sqrt(n))))\n",
        "\n",
        "#Margin of Error\n",
        "a = mean_my_list -(x_bar - my_t*(s/np.sqrt(n))) \n",
        "b=(x_bar + my_t* (s/np.sqrt(n))) -mean_my_list\n",
        "print('Margin of errror:' , a,b)"
      ],
      "execution_count": 36,
      "outputs": [
        {
          "output_type": "stream",
          "text": [
            "CI using t-dist is  (260.90474183908316, 817.1952581609168)\n",
            "Margin of errror: 278.1452581609168 278.1452581609168\n"
          ],
          "name": "stdout"
        }
      ]
    },
    {
      "cell_type": "code",
      "metadata": {
        "id": "7NGlGVu4_tSv",
        "colab_type": "code",
        "colab": {}
      },
      "source": [
        ""
      ],
      "execution_count": 36,
      "outputs": []
    }
  ]
}