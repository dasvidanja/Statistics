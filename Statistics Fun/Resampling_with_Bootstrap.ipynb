{
  "nbformat": 4,
  "nbformat_minor": 0,
  "metadata": {
    "colab": {
      "name": "Resampling with Bootstrap.ipynb",
      "provenance": [],
      "collapsed_sections": []
    },
    "kernelspec": {
      "name": "python3",
      "display_name": "Python 3"
    }
  },
  "cells": [
    {
      "cell_type": "markdown",
      "metadata": {
        "id": "AU8GT3XEuQZp",
        "colab_type": "text"
      },
      "source": [
        "> Resampling Procedure (Bootstrap):\n",
        "\n",
        "1. Write all 20 sample values on slips of paper and place them in a box.\n",
        "\n",
        "2. Draw a slip from the box, record its value, and replace the slip.\n",
        "\n",
        "3. Repeat step two 19 more times and record the mean of the 20 values \n",
        "\n",
        "4. Repeat steps two and three 1000 more times.\n",
        "\n",
        "5. Arrange the 1000 resampled means in descending order and identify the fifthpercentile and the 95th percentile—the values that enclose 90% of the resampledmeans. These are the endpoints of a 90% confidence interval,display a histogram of the 1000 resampled means.\n",
        "\n",
        "*Guidelines providede by book:  \"Statistics and Analytics A Resampling Perspective by Peter C. Bruce\"  CH 7, PAGE 126"
      ]
    },
    {
      "cell_type": "code",
      "metadata": {
        "id": "OYB_bu3-cnaB",
        "colab_type": "code",
        "colab": {
          "base_uri": "https://localhost:8080/",
          "height": 540
        },
        "outputId": "5748238f-a0f7-43a1-c21a-138e9de707e8"
      },
      "source": [
        "#Generate 20 observations \n",
        "import numpy as np\n",
        "np.random.seed(20)\n",
        "\n",
        "my_list = []\n",
        "for x in range(20):\n",
        "  my_list.append(np.random.randint(0,1000))\n",
        "\n",
        "#Check  out list \n",
        "print('Initial list of 20 measurements')\n",
        "print(my_list) \n",
        "\n",
        "#Find the point estimate (mean in this case)\n",
        "mean_my_list =float (np.array(my_list).mean())\n",
        "print('Point estimate of initial measurements (point estimate)')\n",
        "print(mean_my_list)\n",
        "\n",
        "#Bootstrap procedure  \n",
        "#1 trial\n",
        "boot_list = []\n",
        "for x in range(20):\n",
        "  index = np.random.randint(0,20)\n",
        "  boot_list.append(my_list[index])\n",
        "\n",
        "print('One trial boostrap list (sampling with replacement)') \n",
        "print(boot_list)\n",
        "mean_boot_list =float(np.array(boot_list).mean())\n",
        "print('Mean of first trial from sampled observations') \n",
        "print(mean_boot_list)\n",
        "\n",
        "def bootstrap():\n",
        "  boot_list = []\n",
        "  for x in range(20):\n",
        "    index = np.random.randint(0,20)\n",
        "    boot_list.append(my_list[index])\n",
        " \n",
        "  mean_boot_list =float(np.array(boot_list).mean())\n",
        "  return mean_boot_list\n",
        "\n",
        "#Bootstrap 1000 times (sampling with replacement around point estimate to check the degree of variability/reliability)\n",
        "estimate_list = []\n",
        "for x in range(1000):\n",
        "  mean= bootstrap()\n",
        "  estimate_list.append(mean)\n",
        "\n",
        "#Sort results\n",
        "estimate_list= sorted(estimate_list, reverse=False)\n",
        "print('1000 point estimates (mean) from bootstraped resamples')\n",
        "print(estimate_list)\n",
        "\n",
        "import matplotlib.pyplot as plt\n",
        "_=plt.hist(estimate_list)\n",
        "_=plt.title('Histogram of the 1000 Bootstrapped Means')\n",
        "\n",
        "#How about a confidence interval? Say, 90% CI\n",
        "fifth_p= int(0.05*int(len(estimate_list)))\n",
        "ninty_fifth_p= int(0.95*int(len(estimate_list)))\n",
        "print('Fifth percentile',fifth_p)\n",
        "print('Ninty fifth percentile ', ninty_fifth_p)\n",
        "print('90% Confidence Interval', (estimate_list[fifth_p], estimate_list[ninty_fifth_p]))"
      ],
      "execution_count": 36,
      "outputs": [
        {
          "output_type": "stream",
          "text": [
            "Initial list of 20 measurements\n",
            "[355, 474, 271, 223, 924, 218, 393, 404, 843, 790, 583, 162, 992, 118, 552, 469, 474, 794, 763, 979]\n",
            "Point estimate of initial measurements (point estimate)\n",
            "539.05\n",
            "One trial boostrap list (sampling with replacement)\n",
            "[474, 393, 393, 474, 790, 218, 404, 218, 271, 393, 118, 162, 223, 583, 162, 118, 979, 552, 355, 583]\n",
            "Mean of first trial from sampled observations\n",
            "393.15\n",
            "1000 point estimates (mean) from bootstraped resamples\n",
            "[355.05, 360.2, 362.2, 374.85, 375.55, 380.4, 380.85, 390.1, 390.35, 390.6, 393.15, 394.35, 395.4, 396.35, 396.4, 397.75, 398.3, 398.6, 399.25, 400.0, 402.95, 403.05, 403.4, 403.7, 403.75, 404.2, 404.75, 407.05, 407.35, 408.1, 412.9, 413.5, 415.75, 416.15, 417.3, 420.6, 420.95, 420.95, 421.5, 421.65, 424.15, 424.2, 424.4, 425.75, 429.2, 429.45, 429.75, 430.05, 430.1, 431.35, 431.4, 431.7, 431.85, 432.0, 432.05, 432.4, 432.75, 433.35, 433.9, 434.35, 434.85, 436.5, 436.65, 438.1, 438.3, 438.6, 439.05, 439.35, 439.7, 440.4, 440.4, 440.65, 441.1, 441.3, 442.25, 442.4, 442.95, 444.45, 444.5, 445.15, 446.25, 446.8, 446.95, 447.1, 448.15, 448.5, 448.65, 449.0, 451.45, 451.55, 451.9, 452.15, 452.3, 453.05, 453.05, 453.55, 453.95, 454.15, 454.35, 454.45, 454.7, 455.5, 455.7, 456.3, 456.35, 456.95, 457.15, 457.3, 457.8, 457.95, 458.05, 458.1, 458.2, 458.65, 458.65, 458.75, 460.05, 460.1, 461.05, 461.3, 461.4, 462.2, 462.65, 462.9, 463.1, 463.7, 464.1, 464.2, 464.5, 464.6, 465.05, 466.1, 466.55, 466.85, 467.3, 467.3, 467.4, 468.2, 468.25, 468.7, 468.7, 468.85, 469.05, 469.3, 469.4, 469.9, 470.4, 470.5, 470.85, 471.0, 471.05, 471.15, 471.3, 471.55, 472.25, 473.1, 473.75, 474.05, 474.4, 475.0, 475.5, 475.55, 475.85, 476.5, 476.9, 477.0, 477.3, 478.1, 478.15, 478.6, 478.65, 478.8, 478.85, 478.9, 479.2, 479.75, 480.05, 480.2, 480.25, 480.55, 481.4, 481.45, 481.55, 481.8, 482.1, 482.1, 482.8, 483.1, 483.35, 483.55, 483.65, 483.7, 483.8, 483.9, 484.2, 484.25, 484.25, 484.65, 484.65, 484.85, 485.65, 485.65, 485.9, 485.95, 486.8, 487.05, 487.05, 487.2, 487.5, 488.1, 488.25, 488.35, 488.4, 488.7, 489.55, 489.6, 489.85, 490.4, 490.6, 490.6, 490.65, 490.75, 490.8, 490.9, 491.1, 491.35, 491.45, 491.55, 491.6, 491.95, 492.0, 492.4, 492.55, 492.55, 493.1, 493.45, 493.6, 493.65, 494.0, 494.35, 494.4, 494.55, 494.55, 494.55, 494.55, 494.7, 494.9, 495.0, 495.2, 495.5, 495.6, 495.8, 496.25, 496.55, 496.65, 496.75, 496.9, 496.95, 497.1, 497.3, 497.55, 497.65, 497.8, 497.95, 498.2, 498.25, 498.25, 498.25, 498.35, 498.5, 498.5, 498.65, 499.0, 499.05, 499.05, 499.05, 499.55, 499.95, 500.15, 500.15, 500.3, 500.35, 500.5, 500.7, 500.7, 501.0, 501.25, 501.4, 501.45, 501.85, 502.0, 502.25, 502.55, 502.8, 503.4, 503.5, 504.05, 504.05, 504.1, 504.15, 504.25, 504.35, 504.9, 505.25, 505.4, 505.55, 506.15, 506.25, 506.3, 506.7, 506.75, 506.85, 507.0, 507.3, 507.65, 507.9, 508.0, 508.4, 508.6, 508.6, 509.05, 509.25, 509.35, 509.35, 509.4, 509.7, 509.75, 509.8, 510.0, 510.05, 510.1, 510.25, 510.3, 510.35, 510.55, 510.7, 510.7, 510.8, 510.8, 510.8, 510.95, 511.0, 511.0, 511.2, 511.3, 511.4, 511.6, 511.9, 511.95, 512.25, 512.4, 512.55, 512.6, 512.75, 513.3, 513.5, 513.6, 513.8, 513.85, 513.95, 514.0, 514.1, 514.2, 514.3, 514.7, 514.7, 514.85, 515.0, 515.15, 515.6, 515.6, 515.65, 515.75, 515.9, 516.5, 517.15, 517.55, 517.75, 517.75, 517.8, 517.9, 518.0, 518.1, 518.1, 518.4, 518.95, 518.95, 519.15, 519.25, 519.35, 519.35, 519.6, 519.75, 519.8, 519.8, 519.85, 519.95, 519.95, 520.0, 520.3, 520.4, 520.55, 520.75, 521.0, 521.05, 521.25, 521.45, 521.45, 521.7, 522.0, 522.15, 522.2, 522.5, 522.55, 523.15, 523.4, 523.55, 523.6, 523.75, 523.8, 524.0, 524.2, 524.45, 524.95, 525.05, 525.15, 525.15, 525.15, 525.3, 525.65, 525.75, 526.05, 526.2, 526.3, 526.6, 526.7, 526.8, 527.15, 527.7, 527.8, 528.5, 528.5, 528.55, 528.55, 528.9, 529.05, 529.35, 529.6, 529.6, 529.65, 529.8, 529.95, 530.1, 530.1, 530.2, 530.35, 530.4, 530.55, 530.75, 530.8, 530.95, 530.95, 531.05, 531.25, 531.3, 531.65, 531.65, 531.7, 532.0, 532.2, 532.45, 532.55, 532.6, 532.7, 532.8, 532.9, 533.3, 533.3, 533.35, 533.35, 533.55, 533.85, 533.9, 534.2, 534.5, 534.5, 534.5, 534.55, 534.65, 534.75, 535.1, 535.25, 535.4, 535.45, 535.65, 535.75, 535.75, 535.8, 536.05, 536.15, 536.3, 536.3, 536.35, 536.75, 536.85, 537.0, 537.15, 537.45, 537.5, 537.6, 538.05, 538.4, 538.45, 538.5, 538.8, 538.9, 539.05, 539.45, 539.5, 539.6, 539.6, 540.4, 540.55, 540.65, 540.85, 540.9, 540.95, 541.1, 541.1, 541.45, 541.55, 542.0, 542.0, 542.0, 542.1, 542.15, 542.15, 542.4, 542.45, 542.45, 542.95, 543.0, 543.45, 543.55, 543.7, 543.75, 543.75, 544.0, 544.5, 544.5, 544.75, 544.8, 545.4, 545.75, 545.8, 546.15, 546.2, 546.65, 546.95, 547.05, 547.1, 547.1, 547.35, 547.35, 547.4, 547.5, 547.75, 547.75, 547.8, 547.95, 548.0, 548.1, 548.15, 548.5, 548.8, 549.05, 549.05, 549.45, 549.75, 550.0, 550.1, 550.2, 550.35, 550.35, 550.6, 550.85, 550.9, 551.15, 551.25, 551.5, 551.5, 551.55, 551.6, 552.1, 552.2, 552.2, 552.4, 552.65, 552.7, 552.75, 552.8, 553.1, 553.5, 553.95, 554.05, 554.15, 555.1, 555.55, 556.05, 556.35, 556.4, 556.5, 556.5, 557.0, 557.15, 557.35, 557.4, 557.45, 557.55, 557.7, 557.8, 558.15, 558.2, 558.25, 558.4, 558.7, 558.7, 558.9, 559.35, 559.8, 560.05, 560.2, 560.5, 561.0, 561.15, 561.25, 561.35, 561.45, 561.5, 561.55, 561.6, 561.6, 561.9, 561.95, 561.95, 562.1, 562.4, 562.5, 562.6, 563.65, 563.75, 564.05, 564.1, 564.15, 564.35, 564.5, 564.9, 564.95, 565.4, 565.6, 565.75, 566.6, 567.0, 567.1, 567.4, 567.4, 567.95, 568.0, 568.7, 568.8, 569.85, 570.05, 570.3, 570.45, 570.6, 570.7, 571.0, 571.1, 571.1, 571.2, 571.55, 571.75, 571.75, 571.9, 572.05, 572.6, 572.6, 572.95, 573.0, 573.15, 573.3, 573.5, 573.5, 573.9, 574.05, 574.05, 574.2, 574.5, 574.55, 574.65, 575.1, 575.15, 575.25, 575.4, 575.55, 575.6, 575.9, 576.25, 576.35, 576.4, 576.9, 576.95, 577.05, 577.15, 577.35, 577.7, 577.7, 577.7, 577.75, 577.8, 578.05, 578.05, 578.2, 578.25, 578.35, 578.65, 578.75, 578.75, 579.2, 579.3, 579.65, 580.05, 580.15, 580.55, 580.65, 580.85, 580.9, 580.95, 580.95, 581.2, 581.3, 581.5, 581.6, 581.7, 582.15, 582.45, 582.5, 582.5, 582.55, 582.8, 582.9, 583.2, 583.45, 583.45, 583.55, 583.55, 583.7, 584.05, 584.2, 584.4, 584.6, 584.7, 585.15, 585.4, 585.6, 585.85, 586.55, 586.75, 586.9, 587.25, 587.25, 587.3, 587.55, 587.9, 588.15, 588.35, 588.65, 588.65, 589.0, 589.15, 589.25, 589.25, 589.45, 589.45, 589.75, 590.25, 590.3, 590.55, 590.55, 590.6, 590.75, 590.85, 590.95, 591.25, 591.7, 592.3, 592.4, 593.9, 594.15, 594.7, 594.7, 595.0, 595.35, 595.65, 595.8, 596.05, 596.25, 596.45, 596.5, 596.6, 597.55, 597.7, 597.9, 598.15, 598.3, 598.45, 598.7, 599.0, 599.05, 599.15, 599.45, 599.6, 599.6, 600.1, 600.1, 600.85, 601.2, 601.3, 601.7, 601.95, 602.05, 602.7, 602.8, 602.85, 602.9, 602.9, 602.95, 603.1, 603.1, 603.75, 603.8, 604.15, 604.6, 605.75, 605.85, 606.2, 606.3, 606.75, 606.9, 607.15, 608.05, 608.25, 608.35, 608.75, 608.9, 609.0, 609.05, 609.1, 609.1, 609.25, 609.4, 609.65, 610.2, 610.25, 610.7, 610.95, 611.0, 611.05, 611.05, 611.1, 611.1, 611.5, 611.6, 611.95, 612.05, 612.25, 612.7, 613.1, 613.25, 613.6, 614.0, 614.45, 614.6, 614.85, 615.2, 615.2, 616.45, 616.65, 616.8, 617.75, 618.05, 618.45, 618.7, 619.45, 620.1, 620.3, 621.2, 621.65, 622.2, 622.25, 623.5, 623.55, 624.35, 624.45, 625.05, 625.35, 625.55, 625.6, 625.8, 626.1, 626.3, 626.7, 626.7, 626.9, 627.9, 628.65, 628.85, 629.15, 629.15, 629.45, 629.65, 630.15, 630.45, 630.7, 630.8, 631.5, 633.1, 633.15, 635.8, 635.9, 637.3, 638.2, 638.55, 639.1, 639.35, 639.85, 640.0, 641.1, 641.65, 641.75, 641.95, 642.55, 642.85, 642.85, 645.3, 645.75, 647.0, 647.7, 647.8, 647.9, 648.05, 648.75, 649.35, 651.9, 652.1, 652.4, 652.75, 655.65, 655.7, 656.8, 657.0, 657.65, 658.0, 658.95, 659.7, 661.4, 661.55, 662.3, 663.35, 663.45, 665.0, 665.0, 666.1, 667.3, 668.9, 671.4, 671.9, 672.5, 672.65, 674.7, 675.45, 678.1, 678.55, 678.8, 681.85, 684.45, 684.9, 686.6, 686.95, 687.15, 689.55, 691.05, 693.4, 694.95, 699.4, 699.75, 700.35, 712.95, 714.8, 748.95]\n",
            "50\n",
            "950\n",
            "90% Confidence Interval (431.4, 648.05)\n"
          ],
          "name": "stdout"
        },
        {
          "output_type": "display_data",
          "data": {
            "image/png": "[encoded data removed]",
            "text/plain": [
              "<Figure size 432x288 with 1 Axes>"
            ]
          },
          "metadata": {
            "tags": [],
            "needs_background": "light"
          }
        }
      ]
    }
  ]
}