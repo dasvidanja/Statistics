{
  "nbformat": 4,
  "nbformat_minor": 0,
  "metadata": {
    "colab": {
      "name": "CI for a Single Proportion.ipynb",
      "provenance": [],
      "collapsed_sections": []
    },
    "kernelspec": {
      "name": "python3",
      "display_name": "Python 3"
    }
  },
  "cells": [
    {
      "cell_type": "markdown",
      "metadata": {
        "id": "xTpQi-ivBLjg",
        "colab_type": "text"
      },
      "source": [
        "**CONFIDENCE INTERVALS FOR A SINGLE PROPORTION**\n",
        "\n",
        "An online merchant, in an effort to reduce returns, starts a pilot program in which it provides additional explanatory information and pictures about several products. Out ofthe next 20 purchases for those products, four are returned.\n",
        "\n",
        "***Question*** *7.1 What is the point estimate for the return rate under the new program?*\n",
        "\n",
        "***Question*** *7.2 Determine a confidence interval around this point estimate*"
      ]
    },
    {
      "cell_type": "code",
      "metadata": {
        "id": "W-WnabVTBvnd",
        "colab_type": "code",
        "colab": {
          "base_uri": "https://localhost:8080/",
          "height": 368
        },
        "outputId": "4d19c8d2-ecfe-41c2-d2af-e31aa1fb83ef"
      },
      "source": [
        "#Point Estimate, is simply an estimator for a population parameter which we are able to estimate from a sample. \n",
        "point_estimate = 4/20 #0.20 , OR 20%  \n",
        "\n",
        "#Confidence Interval (2 methods)\n",
        "# Resmapling method\n",
        "'''\n",
        "  (1) We can represent the 20% returned by a box with four ones, that is, returns, and 16 zeros, that is, not returned.\n",
        "  (2) Draw a number from the box and record whether it is a zero or a one. Replace the number.\n",
        "  (3) Repeat step two 19 more times, for a resample of 20 from the box. Record the number of returns—ones.\n",
        "  (4) Repeat steps two and three 1000 times, recording the number of ones in the resample each time.\n",
        "  (5) Order the results and find the fifth and 95th percentiles. This is a 90% confidence interval for the number of products returned. \n",
        "      Divide by 20 and multiply by 100 to get percent returned.\n",
        "  '''\n",
        "\n",
        "# Formula method\n",
        "''' GET FORUMLA IN HERE '''\n",
        "\n",
        "#List of outcomes: 4 one's, 16 zero's\n",
        "#Generate a  sequence and shuffle \n",
        "import numpy as np\n",
        "sample = np.array([1]*4+[0]*16)\n",
        "np.random.shuffle(sample)\n",
        "\n",
        "#Resample 1000 times with replacement, record proportion of each trial (1's/total)\n",
        "list_prop = []\n",
        "\n",
        "for x in range(1000):\n",
        "  counter = 0\n",
        "  for x in range(20):\n",
        "    index= np.random.randint(0,20)\n",
        "    if(sample[index] == 1):\n",
        "      counter +=1\n",
        "  list_prop.append(counter/20)\n",
        "\n",
        "#How about a confidence interval? Say, 90% CI\n",
        "list_prop = sorted(list_prop, reverse=False) #sort the list of proportions\n",
        "\n",
        "fifth_p = int(0.05*int(len(list_prop))) #5th percentile\n",
        "ninty_fifth_p= int(0.95*int(len(list_prop))) #95th percentile\n",
        "\n",
        "\n",
        "print('Fifth percentile',fifth_p)\n",
        "print('Ninty fifth percentile ', ninty_fifth_p)\n",
        "print('90% Confidence Interval', (list_prop[fifth_p], list_prop[ninty_fifth_p]))\n",
        "\n",
        "\n",
        "''' CONCLUSION:\n",
        "orginal point estimate: 0.20\n",
        "90% CI with 1000 bootstrapped reamples gives us the interval:  (0.05, 0.35)\n",
        "The point estimate from our original sample is indeed included in the CI from the resampled samples.\n",
        "'''\n",
        "\n",
        "#Simple Graphical Reppresentation \n",
        "import matplotlib.pyplot as plt\n",
        "_=plt.hist(list_prop)\n",
        "_=plt.title('Histogram of the 1000 Bootstrapped Sample Proportions', fontweight='bold')\n",
        "_=plt.xlabel('Proportion of returned products (1s)')\n",
        "_=plt.ylabel('Frequency')\n",
        "_=plt.figure(figsize=(50,20))"
      ],
      "execution_count": 41,
      "outputs": [
        {
          "output_type": "stream",
          "text": [
            "Fifth percentile 50\n",
            "Ninty fifth percentile  950\n",
            "90% Confidence Interval (0.05, 0.35)\n"
          ],
          "name": "stdout"
        },
        {
          "output_type": "display_data",
          "data": {
            "image/png": "[encoded data removed]",
            "text/plain": [
              "<Figure size 432x288 with 1 Axes>"
            ]
          },
          "metadata": {
            "tags": [],
            "needs_background": "light"
          }
        },
        {
          "output_type": "display_data",
          "data": {
            "text/plain": [
              "<Figure size 3600x1440 with 0 Axes>"
            ]
          },
          "metadata": {
            "tags": []
          }
        }
      ]
    }
  ]
}