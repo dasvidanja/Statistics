{
  "nbformat": 4,
  "nbformat_minor": 0,
  "metadata": {
    "colab": {
      "name": "CI for a Difference in Means.ipynb",
      "provenance": []
    },
    "kernelspec": {
      "name": "python3",
      "display_name": "Python 3"
    }
  },
  "cells": [
    {
      "cell_type": "markdown",
      "metadata": {
        "id": "UQ2PG7SVzq2T",
        "colab_type": "text"
      },
      "source": [
        "**CONFIDENCE INTERVALS FOR A DIFFERENCE IN MEANS**\n",
        "\n",
        "#### Problem (Ch 7, page 136)\n",
        "\n",
        "A major retailer considers switching vendors for its ultrasonic humidifiers. Vendor A is the current supplier and vendor B is offering a lower wholesale price and better commercial terms overall. Before deciding to switch, however, the retailer decides to test the efficiency of the two products—the rate at which they humidify the air (smaller better). The retailer decides to compare a sample of humidifiers from each vendor, with the results shown in Table. \n",
        "\n",
        "---\n",
        "\n",
        "***Question:*** *What decision should the retailer make? Stick with A? Switch to B?*\n",
        "\n",
        "---"
      ]
    },
    {
      "cell_type": "code",
      "metadata": {
        "id": "_f809ws4zUmt",
        "colab_type": "code",
        "colab": {
          "base_uri": "https://localhost:8080/",
          "height": 481
        },
        "outputId": "98e24792-ad99-4cda-82b5-2762d9793257"
      },
      "source": [
        "#In here I simply re-create the table (not necessary, but it is good practice)\n",
        "import pandas as pd\n",
        "import numpy as np\n",
        "\n",
        "#Data\n",
        "vendor_A= {'index': [0,1,2,3,4,5,6,7,8,9,10,11],\n",
        "    'Vendor_A':[14.2,15.1,13.9,12.8,13.7,14.0,13.5,14.3,14.9,13.1,13.4,13.2]}\n",
        "vendor_B= {'index': [0,1,2,3,4,5,6,7,8,9,10,11],\n",
        "    'Vendor_B':[12.4,13.6,14.6,12.8,11.9,13.1,12.8,13.2,14.7,14.5,np.NaN,np.NaN]}\n",
        "\n",
        "#Create DataFrames\n",
        "A = pd.DataFrame(vendor_A)\n",
        "B = pd.DataFrame(vendor_B)\n",
        "\n",
        "#Merge\n",
        "data = pd.merge(A,B)\n",
        "table = data[['Vendor_A','Vendor_B']]\n",
        "\n",
        "#Display\n",
        "display(table)\n",
        "\n",
        "#Statistics \n",
        "#means\n",
        "mean_a = table[\"Vendor_A\"].mean()\n",
        "mean_b = table['Vendor_B'].dropna().mean()\n",
        "print('Vendor A mean: ',mean_a)\n",
        "print('Vendor B mean: ',mean_b)\n",
        "\n",
        "#pointe estimate is going to be the differene in means\n",
        "mean_diff = mean_a-mean_b\n",
        "print('Vendor A mean minus Vendor B mean: ', mean_diff) "
      ],
      "execution_count": 64,
      "outputs": [
        {
          "output_type": "display_data",
          "data": {
            "text/html": [
              "<div>\n",
              "<style scoped>\n",
              "    .dataframe tbody tr th:only-of-type {\n",
              "        vertical-align: middle;\n",
              "    }\n",
              "\n",
              "    .dataframe tbody tr th {\n",
              "        vertical-align: top;\n",
              "    }\n",
              "\n",
              "    .dataframe thead th {\n",
              "        text-align: right;\n",
              "    }\n",
              "</style>\n",
              "<table border=\"1\" class=\"dataframe\">\n",
              "  <thead>\n",
              "    <tr style=\"text-align: right;\">\n",
              "      <th></th>\n",
              "      <th>Vendor_A</th>\n",
              "      <th>Vendor_B</th>\n",
              "    </tr>\n",
              "  </thead>\n",
              "  <tbody>\n",
              "    <tr>\n",
              "      <th>0</th>\n",
              "      <td>14.2</td>\n",
              "      <td>12.4</td>\n",
              "    </tr>\n",
              "    <tr>\n",
              "      <th>1</th>\n",
              "      <td>15.1</td>\n",
              "      <td>13.6</td>\n",
              "    </tr>\n",
              "    <tr>\n",
              "      <th>2</th>\n",
              "      <td>13.9</td>\n",
              "      <td>14.6</td>\n",
              "    </tr>\n",
              "    <tr>\n",
              "      <th>3</th>\n",
              "      <td>12.8</td>\n",
              "      <td>12.8</td>\n",
              "    </tr>\n",
              "    <tr>\n",
              "      <th>4</th>\n",
              "      <td>13.7</td>\n",
              "      <td>11.9</td>\n",
              "    </tr>\n",
              "    <tr>\n",
              "      <th>5</th>\n",
              "      <td>14.0</td>\n",
              "      <td>13.1</td>\n",
              "    </tr>\n",
              "    <tr>\n",
              "      <th>6</th>\n",
              "      <td>13.5</td>\n",
              "      <td>12.8</td>\n",
              "    </tr>\n",
              "    <tr>\n",
              "      <th>7</th>\n",
              "      <td>14.3</td>\n",
              "      <td>13.2</td>\n",
              "    </tr>\n",
              "    <tr>\n",
              "      <th>8</th>\n",
              "      <td>14.9</td>\n",
              "      <td>14.7</td>\n",
              "    </tr>\n",
              "    <tr>\n",
              "      <th>9</th>\n",
              "      <td>13.1</td>\n",
              "      <td>14.5</td>\n",
              "    </tr>\n",
              "    <tr>\n",
              "      <th>10</th>\n",
              "      <td>13.4</td>\n",
              "      <td>NaN</td>\n",
              "    </tr>\n",
              "    <tr>\n",
              "      <th>11</th>\n",
              "      <td>13.2</td>\n",
              "      <td>NaN</td>\n",
              "    </tr>\n",
              "  </tbody>\n",
              "</table>\n",
              "</div>"
            ],
            "text/plain": [
              "    Vendor_A  Vendor_B\n",
              "0       14.2      12.4\n",
              "1       15.1      13.6\n",
              "2       13.9      14.6\n",
              "3       12.8      12.8\n",
              "4       13.7      11.9\n",
              "5       14.0      13.1\n",
              "6       13.5      12.8\n",
              "7       14.3      13.2\n",
              "8       14.9      14.7\n",
              "9       13.1      14.5\n",
              "10      13.4       NaN\n",
              "11      13.2       NaN"
            ]
          },
          "metadata": {
            "tags": []
          }
        },
        {
          "output_type": "stream",
          "text": [
            "Vendor A mean:  13.841666666666667\n",
            "Vendor B mean:  13.360000000000003\n",
            "Vendor A mean minus Vendor B mean:  0.4816666666666638\n"
          ],
          "name": "stdout"
        }
      ]
    },
    {
      "cell_type": "code",
      "metadata": {
        "id": "4dd-YEPJNQIs",
        "colab_type": "code",
        "colab": {
          "base_uri": "https://localhost:8080/",
          "height": 405
        },
        "outputId": "d28cde42-4fe7-4b22-e7ca-3fbd3dfb6f28"
      },
      "source": [
        "''' \n",
        "The rationale from the book\n",
        "\"How much might it be in error, based simply on the luck of the draw in selecting humidifiers for the sample? If we or the decision-maker base a decision solely upon the point estimate, it is not a complete picture. \n",
        "We need to couple the point estimate with a confidence interval that brackets it. The confidence interval procedure asks “How would this result differ if we drew manyadditional samples?” \n",
        "It is not feasible to draw lots of new samples, but we can draw resam-ples and observe their behavior.\n",
        "'''\n",
        "#Resmpling procedure (Bootstrap)\n",
        "'''\n",
        "  (1) Box A has 12 slips of paper with the 12 values for Vendor A\n",
        "  (2) Box B has 10 slips of paper with the 10 values for Vendor B\n",
        "  (3) Draw a sample of 12 with replacement from Box A and record the mean\n",
        "  (4) Draw a sample of 10 with replacement from Box B and record the mean\n",
        "  (5) Record the difference—Mean A minus Mean B\n",
        "  (6) Repeat steps three through five 1000 times.\n",
        "  (7) Review the distribution of the 1000 resampled means by creating a histogram and findthe 5th and 95th percentiles. \n",
        "      These are the bounds of a 90% confidence interval. \n",
        "'''\n",
        "#Create the two boxes\n",
        "box_a = table[\"Vendor_A\"].to_list()\n",
        "box_b =table[\"Vendor_B\"].dropna().to_list()\n",
        "\n",
        "resample_mean_diff = []\n",
        "#Bootstrap \n",
        "for x in range(1000):\n",
        "  temp_a=0.0\n",
        "  temp_b=0.0\n",
        "  #Resample & mean from box A\n",
        "  for y in range(12):\n",
        "    index_a= np.random.randint(0,12)\n",
        "    temp_a += box_a[index_a]\n",
        "  temp_a=temp_a/12\n",
        "\n",
        "  #Resample & mean from box B\n",
        "  for x in range(10):\n",
        "    index_b= np.random.randint(0,10)\n",
        "    temp_b +=box_b[index_b]\n",
        "  temp_b = temp_b/10\n",
        "\n",
        "  diff_mean= temp_a -temp_b\n",
        "  resample_mean_diff.append(diff_mean)\n",
        "\n",
        "#How about a confidence interval? Say, 90% CI\n",
        "resample_mean_diff = sorted(resample_mean_diff, reverse=False) #sort the list of proportions\n",
        "fifth_p = int(0.05*int(len(resample_mean_diff))) #5th percentile\n",
        "ninty_fifth_p= int(0.95*int(len(resample_mean_diff))) #95th percentile\n",
        "\n",
        "print('Fifth percentile',fifth_p)\n",
        "print('Ninty fifth percentile ', ninty_fifth_p)\n",
        "print('90% Confidence Interval', (resample_mean_diff[fifth_p], resample_mean_diff[ninty_fifth_p]))\n",
        "print('\\n')\n",
        "\n",
        "'''\n",
        "Conclusion: we got an interval of the possible values with a 90% CI. Now for an acutal answer to the original question, we would have to \n",
        "            dig a bit deeper. Perhaps, an hypothesis testing and p-value set up would be necessary. I will cover it in subsequent simulation.\n",
        "            For the moment, this was an overview of how to compute CI. \n",
        "'''\n",
        "#Graphical Reppresentation\n",
        "import matplotlib.pyplot as plt\n",
        "_=plt.hist(resample_mean_diff)\n",
        "_=plt.title('Histogram of the 1000 Bootstrapped Sample Proportions', fontweight='bold')\n",
        "_=plt.xlabel('Difference in means obtained from each resample')\n",
        "_=plt.ylabel('Frequency of each difference')\n",
        "_=plt.figure(figsize=(50,20))"
      ],
      "execution_count": 79,
      "outputs": [
        {
          "output_type": "stream",
          "text": [
            "Fifth percentile 50\n",
            "Ninty fifth percentile  950\n",
            "90% Confidence Interval (-0.10499999999999865, 1.0266666666666673)\n",
            "\n",
            "\n"
          ],
          "name": "stdout"
        },
        {
          "output_type": "display_data",
          "data": {
            "image/png": "[encoded data removed]",
            "text/plain": [
              "<Figure size 432x288 with 1 Axes>"
            ]
          },
          "metadata": {
            "tags": [],
            "needs_background": "light"
          }
        },
        {
          "output_type": "display_data",
          "data": {
            "text/plain": [
              "<Figure size 3600x1440 with 0 Axes>"
            ]
          },
          "metadata": {
            "tags": []
          }
        }
      ]
    },
    {
      "cell_type": "code",
      "metadata": {
        "id": "OZ66m6xvPYZ-",
        "colab_type": "code",
        "colab": {}
      },
      "source": [
        ""
      ],
      "execution_count": null,
      "outputs": []
    }
  ]
}